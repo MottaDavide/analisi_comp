{
 "cells": [
  {
   "cell_type": "code",
   "execution_count": 1,
   "metadata": {},
   "outputs": [],
   "source": [
    "import sys\n",
    "from pathlib import Path\n",
    "\n",
    "sys.path.append(str(Path('').absolute().parents[0]))\n",
    "\n",
    "import pandas as pd\n",
    "from scripts.A_import import import_one_file\n",
    "from scripts.B_cleaning import cleaning\n",
    "from scripts.C_shaping import *\n",
    "from scripts.D_output import save"
   ]
  },
  {
   "cell_type": "code",
   "execution_count": 3,
   "metadata": {},
   "outputs": [
    {
     "name": "stderr",
     "output_type": "stream",
     "text": [
      "/Users/mottad/Library/CloudStorage/OneDrive-LuxotticaGroupS.p.A/Desktop/analisi_comp/.venv/lib/python3.11/site-packages/openpyxl/styles/stylesheet.py:226: UserWarning: Workbook contains no default style, apply openpyxl's default\n",
      "  warn(\"Workbook contains no default style, apply openpyxl's default\")\n"
     ]
    }
   ],
   "source": [
    "df = import_one_file()\n",
    "df_original = df.copy()"
   ]
  },
  {
   "cell_type": "code",
   "execution_count": 4,
   "metadata": {},
   "outputs": [],
   "source": [
    "\n",
    "df_cleaned = cleaning(df, adding_area=True)\n",
    "df_label = create_comp_today(df_cleaned, week_inside_first=1)\n",
    "df_final = create_comp_today_no_outliers(df_label)\n",
    "#save(df_final)\n",
    "#save(df_final, name = 'df_comp.parquet')\n",
    "save(df_final, name = 'df_comp.csv')\n",
    "#path_output = Path('/Volumes/share/Gruppo_Demand_Planning/02_NPI/DB WHOLESALE NPI/ANALISI COMP NEW')\n",
    "#df_final.to_excel(path_output / 'df_comp_cleaned.xlsx', index=False)"
   ]
  },
  {
   "cell_type": "code",
   "execution_count": null,
   "metadata": {},
   "outputs": [],
   "source": []
  },
  {
   "cell_type": "code",
   "execution_count": null,
   "metadata": {},
   "outputs": [],
   "source": []
  },
  {
   "cell_type": "code",
   "execution_count": 4,
   "metadata": {},
   "outputs": [
    {
     "ename": "NameError",
     "evalue": "name 'df2' is not defined",
     "output_type": "error",
     "traceback": [
      "\u001b[0;31m---------------------------------------------------------------------------\u001b[0m",
      "\u001b[0;31mNameError\u001b[0m                                 Traceback (most recent call last)",
      "Cell \u001b[0;32mIn[4], line 1\u001b[0m\n\u001b[0;32m----> 1\u001b[0m \u001b[43mdf2\u001b[49m\n",
      "\u001b[0;31mNameError\u001b[0m: name 'df2' is not defined"
     ]
    }
   ],
   "source": [
    "df2"
   ]
  },
  {
   "cell_type": "code",
   "execution_count": null,
   "metadata": {},
   "outputs": [],
   "source": [
    "\n",
    "\n"
   ]
  },
  {
   "cell_type": "code",
   "execution_count": null,
   "metadata": {},
   "outputs": [],
   "source": [
    "df2.to_excel(Path('').absolute().parents[0] / 'data' /'output'/ 'df_comp_cleaned.xlsx', index=False)"
   ]
  },
  {
   "cell_type": "code",
   "execution_count": null,
   "metadata": {},
   "outputs": [],
   "source": [
    "sys.exit()"
   ]
  },
  {
   "cell_type": "markdown",
   "metadata": {},
   "source": [
    "# --------------------------------------------------------------------------------------------------------------------------------------------------------------------"
   ]
  },
  {
   "cell_type": "code",
   "execution_count": null,
   "metadata": {},
   "outputs": [],
   "source": [
    "import random\n",
    "\n",
    "brand = 'RX'\n",
    "customer = random.choice(df2.customer.unique())\n",
    "release = '2023 N1'\n",
    "creation_week = 202301\n",
    "\n",
    "df.query('brand == @brand & customer_sold_to == @customer & release == @release & creation_yearweek == @creation_week')\n",
    "df2.query('brand == @brand & customer == @customer & release == @release').sort_values(by='creation_yearweek')"
   ]
  },
  {
   "cell_type": "code",
   "execution_count": null,
   "metadata": {},
   "outputs": [],
   "source": [
    "df_outliers_iqr = detect_outlier(df_label)\n",
    "\n",
    "df_outliers_mad = detect_outlier(df_label, 'mad')\n",
    "\n",
    "df_outliers_iso = detect_outlier(df_label, 'iso')\n",
    "\n",
    "#df_outliers_svm = detect_outlier(df_label, 'svm')"
   ]
  },
  {
   "cell_type": "code",
   "execution_count": null,
   "metadata": {},
   "outputs": [],
   "source": [
    "df_outliers_iso"
   ]
  },
  {
   "cell_type": "code",
   "execution_count": null,
   "metadata": {},
   "outputs": [],
   "source": [
    "df_outliers_mad"
   ]
  },
  {
   "cell_type": "code",
   "execution_count": null,
   "metadata": {},
   "outputs": [],
   "source": [
    "dict_outliers = {'iqr': df_outliers_iqr, 'mad': df_outliers_mad, 'iso': df_outliers_iso}"
   ]
  },
  {
   "cell_type": "code",
   "execution_count": null,
   "metadata": {},
   "outputs": [],
   "source": [
    "import plotly.express as px\n",
    "\n",
    "# Select a specific combination for demonstration (you can adjust these values as needed)\n",
    "selected_brand = 'RB'\n",
    "selected_dedalo_area = 'MUESED'\n",
    "selected_acquisition_mode_group = 'REPLENISHMENT'\n",
    "\n",
    "METHOD = 'iqr'\n",
    "df_outliers = dict_outliers[METHOD]\n",
    "\n",
    "# Filter the DataFrame for the selected combination\n",
    "filtered_df = df_outliers[(df_outliers['brand'] == selected_brand) &\n",
    "                        (df_outliers['dedalo_area'] == selected_dedalo_area) &\n",
    "                        (df_outliers['new_acquisition_mode'] == selected_acquisition_mode_group)]\n",
    "\n",
    "# Create a scatter plot\n",
    "fig = px.scatter(filtered_df, x='creation_yearweek', y='qty', color='outlier',\n",
    "                color_discrete_map={True: 'red', False: 'blue'},\n",
    "                title=f\"Qty Outliers for {selected_brand}, {selected_dedalo_area}, {selected_acquisition_mode_group}\")\n",
    "\n",
    "# Show figure\n",
    "fig.show()"
   ]
  },
  {
   "cell_type": "code",
   "execution_count": null,
   "metadata": {},
   "outputs": [],
   "source": [
    "df_outliers.query('brand == @selected_brand' )"
   ]
  },
  {
   "cell_type": "code",
   "execution_count": null,
   "metadata": {},
   "outputs": [],
   "source": [
    "sys.exit()"
   ]
  },
  {
   "cell_type": "markdown",
   "metadata": {},
   "source": []
  },
  {
   "cell_type": "code",
   "execution_count": null,
   "metadata": {},
   "outputs": [],
   "source": [
    "create_till_today(df_label)"
   ]
  },
  {
   "cell_type": "code",
   "execution_count": null,
   "metadata": {},
   "outputs": [],
   "source": [
    "create_comp_today(df)"
   ]
  },
  {
   "cell_type": "code",
   "execution_count": null,
   "metadata": {},
   "outputs": [],
   "source": [
    "df_label"
   ]
  },
  {
   "cell_type": "code",
   "execution_count": null,
   "metadata": {},
   "outputs": [],
   "source": [
    "\n",
    "\n"
   ]
  },
  {
   "cell_type": "code",
   "execution_count": null,
   "metadata": {},
   "outputs": [],
   "source": [
    "df_label.to_csv('/Users/mottad/Library/CloudStorage/OneDrive-LuxotticaGroupS.p.A/Desktop/df_comp.csv', index=False)"
   ]
  },
  {
   "cell_type": "code",
   "execution_count": null,
   "metadata": {},
   "outputs": [],
   "source": [
    "customer = 'OPTICAL CENTER'\n",
    "brand = 'RX'\n",
    "\n",
    "df_label.query('customer == @customer & brand == @brand')"
   ]
  },
  {
   "cell_type": "code",
   "execution_count": null,
   "metadata": {},
   "outputs": [],
   "source": []
  },
  {
   "cell_type": "markdown",
   "metadata": {},
   "source": [
    "un cliente, più aree"
   ]
  },
  {
   "cell_type": "code",
   "execution_count": null,
   "metadata": {},
   "outputs": [],
   "source": [
    "customer = df.groupby(by = 'customer', as_index=False)['dedalo_area'].nunique().query('dedalo_area >1').customer.iloc[1]\n",
    "df.query('customer == @customer')\n"
   ]
  },
  {
   "cell_type": "code",
   "execution_count": null,
   "metadata": {},
   "outputs": [],
   "source": [
    "df.acquisition_mode_group.unique()"
   ]
  },
  {
   "cell_type": "code",
   "execution_count": null,
   "metadata": {},
   "outputs": [],
   "source": [
    "import matplotlib.pyplot as plt\n",
    "import seaborn as sns\n",
    "import random\n",
    "\n"
   ]
  },
  {
   "cell_type": "code",
   "execution_count": null,
   "metadata": {},
   "outputs": [],
   "source": [
    "brand = 'OX'\n",
    "dedalo = 'MUESED'\n",
    "acquisition = 'REP'\n",
    "\n",
    "plt.figure(1, figsize=(20,10))\n",
    "sns.histplot(data = df.query('brand == @brand & dedalo_area == @dedalo & acquisition_mode_group == @acquisition & datest_name in [\"Turchia\", \"Italia\", \"Turchia Sport\", \"Italia Sport\"]'), x = 'qty', hue = 'datest_name')\n",
    "plt.xlim((0,100))\n",
    "\n",
    "plt.figure(2)\n",
    "sns.boxplot(data = df.query('brand == @brand & dedalo_area == @dedalo & acquisition_mode_group == @acquisition'), x = 'qty')"
   ]
  },
  {
   "cell_type": "code",
   "execution_count": null,
   "metadata": {},
   "outputs": [],
   "source": [
    "import plotly.graph_objects as go\n",
    "\n",
    "# Assuming df is your DataFrame filtered by brand, dedalo_area, and acquisition_mode_group\n",
    "# and contains columns for qty and datest_name\n",
    "\n",
    "# Unique datest_names for dropdown options\n",
    "datest_names = df['datest_name'].unique()\n",
    "\n",
    "# Create a figure\n",
    "fig = go.Figure()\n",
    "\n",
    "for name in datest_names:\n",
    "    # Filter the DataFrame for each datest_name\n",
    "    df_filtered = df[df['datest_name'] == name]\n",
    "    \n",
    "    # Add a histogram trace for each datest_name\n",
    "    fig.add_trace(\n",
    "        go.Histogram(\n",
    "            x=df_filtered['qty'],\n",
    "            name=name,  # Use datest_name as the trace name\n",
    "            opacity=0.75\n",
    "        )\n",
    "    )\n",
    "\n",
    "# Update layout to add a dropdown menu\n",
    "fig.update_layout(\n",
    "    updatemenus=[\n",
    "        dict(\n",
    "            buttons=[\n",
    "                dict(\n",
    "                    label=name,\n",
    "                    method=\"update\",\n",
    "                    args=[{\"visible\": [name == dname for dname in datest_names]},\n",
    "                          {\"title\": f\"Data for: {name}\"}]\n",
    "                ) for name in datest_names\n",
    "            ] + [\n",
    "                dict(\n",
    "                    label=\"All\",\n",
    "                    method=\"update\",\n",
    "                    args=[{\"visible\": [True] * len(datest_names)},\n",
    "                          {\"title\": \"All Data\"}]\n",
    "                )\n",
    "            ],\n",
    "            direction=\"down\",\n",
    "            showactive=True,\n",
    "        )\n",
    "    ],\n",
    "    barmode='overlay',\n",
    "    xaxis=dict(range=[500, 3000]),  # Limit the x-axis to 200\n",
    "    yaxis=dict(range=[0, 5])  # Limit the x-axis to 200\n",
    ")\n",
    "\n",
    "# Optionally, add functionality to hide other traces when one is clicked in the legend\n",
    "fig.update_traces(selector=dict(type='histogram'), showlegend=True)\n",
    "\n",
    "fig.show()\n"
   ]
  },
  {
   "cell_type": "code",
   "execution_count": null,
   "metadata": {},
   "outputs": [],
   "source": [
    "df.query('brand == @brand & dedalo_area == @dedalo & acquisition_mode_group == @acquisition & qty > 400')"
   ]
  },
  {
   "cell_type": "code",
   "execution_count": null,
   "metadata": {},
   "outputs": [],
   "source": [
    "grouped = df.groupby(['brand', 'acquisition_mode_group','dedalo_area'])\n",
    "\n",
    "# Calculate the quartiles for each group\n",
    "quartiles = grouped['qty'].quantile([0.1, 0.5, 0.9]).unstack()"
   ]
  },
  {
   "cell_type": "code",
   "execution_count": null,
   "metadata": {},
   "outputs": [],
   "source": [
    "quartiles"
   ]
  },
  {
   "cell_type": "code",
   "execution_count": null,
   "metadata": {},
   "outputs": [],
   "source": [
    "df_prova = df.groupby(by = 'datest_name', as_index=False)['qty'].sum()\n",
    "\n",
    "plt.figure(figsize = (30,10))\n",
    "sns.barplot(data = df_prova, x = df_prova['datest_name'], y= df_prova['qty'])\n",
    "plt.xticks(rotation=45)"
   ]
  },
  {
   "cell_type": "code",
   "execution_count": null,
   "metadata": {},
   "outputs": [],
   "source": [
    "df.query('datest_name == \"Turchia\" & qty >= 200')"
   ]
  },
  {
   "cell_type": "code",
   "execution_count": null,
   "metadata": {},
   "outputs": [],
   "source": [
    "\n",
    "customer = random.choice(df.customer.unique())\n",
    "sns.histplot(data=df.query(\"customer == @customer\"), x='planned_delivery_date', hue='release', bins = 20)"
   ]
  },
  {
   "cell_type": "code",
   "execution_count": null,
   "metadata": {},
   "outputs": [],
   "source": [
    "dedalo_area = 'MUESED'\n",
    "plt.figure(figsize = (20,15))\n",
    "\n",
    "df3 = df2.groupby(by = [col for col in df2.columns if not col in ['planned_delivery_date', 'qty']], as_index=False)['qty'].sum()\n",
    "\n",
    "fig, ((ax1, ax2), (ax3, ax4)) = plt.subplots(2, 2, figsize=(20, 15))\n",
    "\n",
    "df_label = label_first_order(df3, week_inside_first=1).query('dedalo_area == @dedalo_area')    \n",
    "sns.histplot(data=df_label, x='acquisition_mode_group', hue='first_order', bins = 20, ax=ax1)\n",
    "\n",
    "df_label = label_first_order(df3, week_inside_first=2).query('dedalo_area == @dedalo_area')        \n",
    "sns.histplot(data=df_label, x='acquisition_mode_group', hue='first_order', bins = 20, ax=ax2)\n",
    "\n",
    "df_label = label_first_order(df3, week_inside_first=4).query('dedalo_area == @dedalo_area')        \n",
    "sns.histplot(data=df_label, x='acquisition_mode_group', hue='first_order', bins = 20, ax=ax3)\n",
    "\n",
    "df_label = label_first_order(df3, week_inside_first=6).query('dedalo_area == @dedalo_area')        \n",
    "sns.histplot(data=df_label, x='acquisition_mode_group', hue='first_order', bins = 20, ax=ax4)\n",
    "\n",
    "\n",
    "\n"
   ]
  },
  {
   "cell_type": "code",
   "execution_count": null,
   "metadata": {},
   "outputs": [],
   "source": [
    "number_of_week = range(1, 20)\n",
    "lst_first_order = []\n",
    "for i in number_of_week:\n",
    "    lst_first_order.append(len(label_first_order(df_cleaned, week_inside_first=i).query('first_order == True')) / len(df_cleaned))\n",
    "\n",
    "df_number_first_orders = pd.DataFrame({'number_of_week': number_of_week, 'indicator': lst_first_order})\n",
    "\n",
    "sns.lineplot(data=df_number_first_orders, x = 'number_of_week', y = 'indicator')"
   ]
  },
  {
   "cell_type": "code",
   "execution_count": null,
   "metadata": {},
   "outputs": [],
   "source": [
    "df_label.query(\"acquisition_mode_group == 'RED CARPET' & first_order == False & release == '2023 N1'\")"
   ]
  },
  {
   "cell_type": "code",
   "execution_count": null,
   "metadata": {},
   "outputs": [],
   "source": [
    "customer = \"ECOUTER VOIR LES OPT MUTUALISTES\"\n",
    "brand = 'VO'\n",
    "amg = 'REP'\n",
    "rel = '2024 N1'\n",
    "\n",
    "df.query(\"customer == @customer & brand == @brand\")\n",
    "df.query(\"customer == @customer & brand == @brand & release == @rel\").sort_values(by = 'creation_yearweek')"
   ]
  },
  {
   "cell_type": "markdown",
   "metadata": {},
   "source": []
  },
  {
   "cell_type": "code",
   "execution_count": null,
   "metadata": {},
   "outputs": [],
   "source": []
  }
 ],
 "metadata": {
  "kernelspec": {
   "display_name": ".venv",
   "language": "python",
   "name": "python3"
  },
  "language_info": {
   "codemirror_mode": {
    "name": "ipython",
    "version": 3
   },
   "file_extension": ".py",
   "mimetype": "text/x-python",
   "name": "python",
   "nbconvert_exporter": "python",
   "pygments_lexer": "ipython3",
   "version": "3.11.5"
  }
 },
 "nbformat": 4,
 "nbformat_minor": 2
}
